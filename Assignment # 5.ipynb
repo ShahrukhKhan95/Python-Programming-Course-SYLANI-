{
 "cells": [
  {
   "cell_type": "markdown",
   "metadata": {},
   "source": [
    "# Python Assignment # 5"
   ]
  },
  {
   "cell_type": "code",
   "execution_count": null,
   "metadata": {},
   "outputs": [],
   "source": []
  },
  {
   "cell_type": "raw",
   "metadata": {},
   "source": [
    "Question:1\n",
    "\n",
    "Write a Python function to calculate the factorial of a number (a non-negative\n",
    "integer). The function accepts the number as an argument."
   ]
  },
  {
   "cell_type": "code",
   "execution_count": 1,
   "metadata": {},
   "outputs": [
    {
     "name": "stdout",
     "output_type": "stream",
     "text": [
      "Input a non-negative number to find its factiorial: 5\n",
      "120\n"
     ]
    }
   ],
   "source": [
    "#Function of factorial(num)\n",
    "def factorial(num):\n",
    "    if num == 0:\n",
    "        return 1\n",
    "    else:\n",
    "        return num * factorial(num-1)\n",
    "    \n",
    "num = int(input(\"Input a non-negative number to find its factiorial: \"))\n",
    "print(factorial(num))"
   ]
  },
  {
   "cell_type": "code",
   "execution_count": null,
   "metadata": {},
   "outputs": [],
   "source": []
  },
  {
   "cell_type": "raw",
   "metadata": {},
   "source": [
    "Question:2 \n",
    "\n",
    "Write a Python function that accepts a string and calculate the number of upper\n",
    "case letters and lower case letters."
   ]
  },
  {
   "cell_type": "code",
   "execution_count": 6,
   "metadata": {},
   "outputs": [
    {
     "name": "stdout",
     "output_type": "stream",
     "text": [
      "Entered String is:  The Quick Brown Fox Jumps Over The Lazy Dog\n",
      "No. of Upper case characters :  9\n",
      "No. of Lower case characters :  26\n"
     ]
    }
   ],
   "source": [
    "#Function of identifyString(abc)\n",
    "def identifyString(abc):\n",
    "    upper_case = 0\n",
    "    lower_case = 0\n",
    "    \n",
    "    for checking in abc:\n",
    "        if checking.isupper():\n",
    "            upper_case += 1\n",
    "        elif checking.islower():\n",
    "            lower_case += 1\n",
    "        else:\n",
    "            pass\n",
    "    print(\"Entered String is: \", abc)\n",
    "    print (\"No. of Upper case characters : \", upper_case)\n",
    "    print (\"No. of Lower case characters : \", lower_case)\n",
    "\n",
    "identifyString(\"The Quick Brown Fox Jumps Over The Lazy Dog\")\n",
    "    "
   ]
  },
  {
   "cell_type": "code",
   "execution_count": null,
   "metadata": {},
   "outputs": [],
   "source": []
  },
  {
   "cell_type": "raw",
   "metadata": {},
   "source": [
    "Question:3\n",
    "\n",
    "Write a Python function to print the even numbers from a given list."
   ]
  },
  {
   "cell_type": "code",
   "execution_count": 12,
   "metadata": {},
   "outputs": [
    {
     "name": "stdout",
     "output_type": "stream",
     "text": [
      "Even Numbers are: \n",
      "8 14 68 "
     ]
    }
   ],
   "source": [
    "#function to print Even Numbers in a List \n",
    "  \n",
    "def print_even_numbers(given_list):\n",
    "    # list of numbers \n",
    "    given_list1 = [8, 17, 14, 65, 68, 193] \n",
    "    \n",
    "    for num in given_list1:\n",
    "        # checking condition \n",
    "        if num % 2 == 0: \n",
    "            print(num, end = \" \")\n",
    "\n",
    "print(\"Even Numbers are: \")\n",
    "print_even_numbers([8, 17, 14, 65, 68, 193])"
   ]
  },
  {
   "cell_type": "code",
   "execution_count": null,
   "metadata": {},
   "outputs": [],
   "source": []
  },
  {
   "cell_type": "raw",
   "metadata": {},
   "source": [
    "Question:4\n",
    "\n",
    "Write a Python function that checks whether a passed string is palindrome or not.\n",
    "Note: A palindrome is a word, phrase, or sequence that reads the same\n",
    "backward as forward, e.g., madam"
   ]
  },
  {
   "cell_type": "code",
   "execution_count": 16,
   "metadata": {},
   "outputs": [
    {
     "name": "stdout",
     "output_type": "stream",
     "text": [
      "Passed string (madam) is Palindrome\n",
      "Passed string (cat) is not Palindrome\n"
     ]
    }
   ],
   "source": [
    "#function to print IS PALINDROME or IS NOT PALINDROME if the given string is PALINDROME or NOT\n",
    "\n",
    "def isPalindrome(string):\n",
    "    left_pos = 0\n",
    "    right_pos = len(string) - 1\n",
    "\n",
    "    while right_pos >= left_pos:\n",
    "        if not string[left_pos] == string[right_pos]:\n",
    "            return \"Passed string (\" + string + \") is not Palindrome\"\n",
    "        left_pos += 1\n",
    "        right_pos -= 1\n",
    "    return \"Passed string (\" + string + \") is Palindrome\"\n",
    "\n",
    "print(isPalindrome('madam')) \n",
    "print(isPalindrome('cat'))"
   ]
  },
  {
   "cell_type": "code",
   "execution_count": null,
   "metadata": {},
   "outputs": [],
   "source": []
  },
  {
   "cell_type": "raw",
   "metadata": {},
   "source": [
    "Question:5\n",
    "\n",
    "Write a Python function that takes a number as a parameter and check the\n",
    "number is prime or not."
   ]
  },
  {
   "cell_type": "code",
   "execution_count": 25,
   "metadata": {},
   "outputs": [
    {
     "name": "stdout",
     "output_type": "stream",
     "text": [
      "False\n",
      "True\n"
     ]
    }
   ],
   "source": [
    "#function to print TRUE or FALSE if the given number is Prime or not \n",
    "\n",
    "def test_prime(num):\n",
    "    if (num==1):\n",
    "        return False\n",
    "    elif (num==2):\n",
    "        return True;\n",
    "    else:\n",
    "        for x in range(2, num):\n",
    "            if(num % x==0):\n",
    "                return False\n",
    "        return True \n",
    "    \n",
    "print(test_prime(9))\n",
    "print(test_prime(5))"
   ]
  },
  {
   "cell_type": "code",
   "execution_count": null,
   "metadata": {},
   "outputs": [],
   "source": []
  },
  {
   "cell_type": "raw",
   "metadata": {},
   "source": [
    "Question: 6\n",
    "\n",
    "Suppose a customer is shopping in a market and you need to print all the items\n",
    "which user bought from market.\n",
    "Write a function which accepts the multiple arguments of user shopping list and\n",
    "print all the items which user bought from market.\n",
    "(Hint: Arbitrary Argument concept can make this task ease)"
   ]
  },
  {
   "cell_type": "code",
   "execution_count": 8,
   "metadata": {},
   "outputs": [
    {
     "name": "stdout",
     "output_type": "stream",
     "text": [
      "------------------------------\n",
      "    Shopping Items Program    \n",
      "------------------------------\n",
      "\n",
      "1. Add item in list of items\n",
      "2. Exit from Program\n",
      "\n",
      "Choose 1 option from above: 1\n",
      "Enter Item Name: BREAD\n",
      "Item added in List\n",
      "\n",
      "Items in our list of items are: \n",
      " --> BREAD\n",
      "------------------------------\n",
      "    Shopping Items Program    \n",
      "------------------------------\n",
      "\n",
      "1. Add item in list of items\n",
      "2. Exit from Program\n",
      "\n",
      "Choose 1 option from above: 1\n",
      "Enter Item Name: BUTTER\n",
      "Item added in List\n",
      "\n",
      "Items in our list of items are: \n",
      " --> BREAD\n",
      " --> BUTTER\n",
      "------------------------------\n",
      "    Shopping Items Program    \n",
      "------------------------------\n",
      "\n",
      "1. Add item in list of items\n",
      "2. Exit from Program\n",
      "\n",
      "Choose 1 option from above: 1\n",
      "Enter Item Name: EGGS\n",
      "Item added in List\n",
      "\n",
      "Items in our list of items are: \n",
      " --> BREAD\n",
      " --> BUTTER\n",
      " --> EGGS\n",
      "------------------------------\n",
      "    Shopping Items Program    \n",
      "------------------------------\n",
      "\n",
      "1. Add item in list of items\n",
      "2. Exit from Program\n",
      "\n",
      "Choose 1 option from above: 1\n",
      "Enter Item Name: MILK PAK\n",
      "Item added in List\n",
      "\n",
      "Items in our list of items are: \n",
      " --> BREAD\n",
      " --> BUTTER\n",
      " --> EGGS\n",
      " --> MILK PAK\n",
      "------------------------------\n",
      "    Shopping Items Program    \n",
      "------------------------------\n",
      "\n",
      "1. Add item in list of items\n",
      "2. Exit from Program\n",
      "\n",
      "Choose 1 option from above: 1\n",
      "Enter Item Name: HONEY\n",
      "Item added in List\n",
      "\n",
      "Items in our list of items are: \n",
      " --> BREAD\n",
      " --> BUTTER\n",
      " --> EGGS\n",
      " --> MILK PAK\n",
      " --> HONEY\n",
      "------------------------------\n",
      "    Shopping Items Program    \n",
      "------------------------------\n",
      "\n",
      "1. Add item in list of items\n",
      "2. Exit from Program\n",
      "\n",
      "Choose 1 option from above: 1\n",
      "Enter Item Name: BISCUITS\n",
      "Item added in List\n",
      "\n",
      "Items in our list of items are: \n",
      " --> BREAD\n",
      " --> BUTTER\n",
      " --> EGGS\n",
      " --> MILK PAK\n",
      " --> HONEY\n",
      " --> BISCUITS\n",
      "------------------------------\n",
      "    Shopping Items Program    \n",
      "------------------------------\n",
      "\n",
      "1. Add item in list of items\n",
      "2. Exit from Program\n",
      "\n",
      "Choose 1 option from above: 2\n",
      "\n",
      "Items in our list of items are: \n",
      " --> BREAD\n",
      " --> BUTTER\n",
      " --> EGGS\n",
      " --> MILK PAK\n",
      " --> HONEY\n",
      " --> BISCUITS\n"
     ]
    }
   ],
   "source": [
    "#Shopping Items List Python Program\n",
    "\n",
    "items = []\n",
    "\n",
    "def shoppingItemsApp(choices):\n",
    "    print(\"------------------------------\\n    Shopping Items Program    \\n------------------------------\\n\")\n",
    "    for choiceKey, choiceValue in choices.items():\n",
    "        print(\"{}. {}\".format(choiceKey, choiceValue))\n",
    "        \n",
    "    userInput = input(\"\\nChoose 1 option from above: \")\n",
    "    return userInput\n",
    "\n",
    "choices = {\n",
    "    1 : \"Add item in list of items\",\n",
    "    2 : \"Exit from Program\"\n",
    "}\n",
    "\n",
    "\n",
    "while (True):\n",
    "    userInput = shoppingItemsApp(choices)\n",
    "    userInput = int(userInput)\n",
    "    \n",
    "    if userInput > 0 and userInput <=2:\n",
    "        \n",
    "        #Adding items in List\n",
    "        if userInput == 1:\n",
    "            items.append(input(\"Enter Item Name: \"))\n",
    "            print(\"Item added in List\")\n",
    "            \n",
    "        print(\"\\nItems in our list of items are: \")\n",
    "        for item in items:\n",
    "            print(\" --> \" + item)\n",
    "        \n",
    "        #Exiting from WHILE LOOP / Program\n",
    "        if userInput == 2:\n",
    "            break\n",
    "        \n",
    "    else:\n",
    "        print(\"\\nCommand is incorrect\")\n",
    "    "
   ]
  },
  {
   "cell_type": "code",
   "execution_count": null,
   "metadata": {},
   "outputs": [],
   "source": []
  },
  {
   "cell_type": "code",
   "execution_count": null,
   "metadata": {},
   "outputs": [],
   "source": []
  }
 ],
 "metadata": {
  "kernelspec": {
   "display_name": "Python 3",
   "language": "python",
   "name": "python3"
  },
  "language_info": {
   "codemirror_mode": {
    "name": "ipython",
    "version": 3
   },
   "file_extension": ".py",
   "mimetype": "text/x-python",
   "name": "python",
   "nbconvert_exporter": "python",
   "pygments_lexer": "ipython3",
   "version": "3.7.4"
  }
 },
 "nbformat": 4,
 "nbformat_minor": 2
}
