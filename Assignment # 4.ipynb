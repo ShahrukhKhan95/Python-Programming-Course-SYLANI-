{
 "cells": [
  {
   "cell_type": "markdown",
   "metadata": {},
   "source": [
    "# Certified Python Programming"
   ]
  },
  {
   "cell_type": "markdown",
   "metadata": {},
   "source": [
    "# Assignment # 4"
   ]
  },
  {
   "cell_type": "raw",
   "metadata": {},
   "source": [
    "Q1): Use a dictionary to store information about a person you know. Store their first name, last name, age,\n",
    "and the city in which they live. You should have keys such as first_name, last_name, age, and city. Print\n",
    "each piece of information stored in your dictionary. Add a new key value pair about qualification then\n",
    "update the qualification value to high academic level then delete it."
   ]
  },
  {
   "cell_type": "code",
   "execution_count": 1,
   "metadata": {},
   "outputs": [
    {
     "name": "stdout",
     "output_type": "stream",
     "text": [
      "Mohsin\n",
      "Ali\n",
      "62\n",
      "Karachi\n"
     ]
    }
   ],
   "source": [
    "#creating or initializing dictionary\n",
    "personInfo = {\n",
    "    'first_name': 'Mohsin',\n",
    "    'last_name': 'Ali',\n",
    "    'age': 62,\n",
    "    'city': 'Karachi',\n",
    "    }\n",
    "\n",
    "print(personInfo['first_name'])\n",
    "print(personInfo['last_name'])\n",
    "print(personInfo['age'])\n",
    "print(personInfo['city'])"
   ]
  },
  {
   "cell_type": "code",
   "execution_count": 4,
   "metadata": {},
   "outputs": [
    {
     "name": "stdout",
     "output_type": "stream",
     "text": [
      "MS in Physics\n"
     ]
    }
   ],
   "source": [
    "#adding another key,value in dictionary \"personInfo\"\n",
    "personInfo[\"qualification\"] = \"MS in Physics\"\n",
    "\n",
    "print(personInfo['qualification'])"
   ]
  },
  {
   "cell_type": "code",
   "execution_count": 6,
   "metadata": {},
   "outputs": [
    {
     "name": "stdout",
     "output_type": "stream",
     "text": [
      "Previously added qualification:  MS in Physics\n",
      "Updated qualification is:  Homeopathic Doctor\n"
     ]
    }
   ],
   "source": [
    "#updating above added key's value \n",
    "print(\"Previously added qualification: \", personInfo.get('qualification'))\n",
    "\n",
    "personInfo['qualification'] = 'Homeopathic Doctor'\n",
    "print(\"Updated qualification is: \", personInfo.get('qualification'))"
   ]
  },
  {
   "cell_type": "code",
   "execution_count": null,
   "metadata": {},
   "outputs": [],
   "source": []
  },
  {
   "cell_type": "code",
   "execution_count": null,
   "metadata": {},
   "outputs": [],
   "source": []
  },
  {
   "cell_type": "raw",
   "metadata": {},
   "source": [
    "Q2): Make a dictionary called cities. Use the names of three cities as keys in your dictionary. Create a\n",
    "dictionary of information about each city and include the country that the city is in, its approximate\n",
    "population, and one fact about that city. The keys for each city’s dictionary should be something like\n",
    "country, population, and fact. Print the name of each city and all of the information you have stored\n",
    "about it."
   ]
  },
  {
   "cell_type": "code",
   "execution_count": 12,
   "metadata": {},
   "outputs": [
    {
     "name": "stdout",
     "output_type": "stream",
     "text": [
      "\n",
      "Karachi is in Pakistan.\n",
      "  It has a population of about 15741406.\n",
      "  Karachi Is Also Known As City Of Lights is the fact about it!\n",
      "\n",
      "Lahore is in Pakistan.\n",
      "  It has a population of about 12188196.\n",
      "  Lahore Is Historically An Important Place In The South Asian Subcontinent is the fact about it!\n",
      "\n",
      "Quetta is in Pakistan.\n",
      "  It has a population of about 1001205.\n",
      "  It Is Famous For Its Honey Sweet Apples And Many Other Verities Of Fruit is the fact about it!\n"
     ]
    }
   ],
   "source": [
    "#initializing dictionary \"cities\" with its info\n",
    "cities = {\n",
    "   'Karachi': {\n",
    "        'country': 'Pakistan',\n",
    "        'population': 15741406,\n",
    "        'fact': 'Karachi is also known as City of Lights',\n",
    "        },\n",
    "    'Lahore': {\n",
    "        'country': 'Pakistan',\n",
    "        'population': 12188196,\n",
    "        'fact': 'Lahore is historically an important place in the South Asian Subcontinent',\n",
    "        },\n",
    "    'Quetta': {\n",
    "        'country': 'Pakistan',\n",
    "        'population': 1001205,\n",
    "        'fact': 'It is famous for its honey sweet apples and many other verities of fruit',\n",
    "        }\n",
    "}\n",
    "\n",
    "for city, city_info in cities.items():\n",
    "    country = city_info['country'].title()\n",
    "    population = city_info['population']\n",
    "    fact = city_info['fact'].title()\n",
    "\n",
    "    print(\"\\n\" + city.title() + \" is in \" + country + \".\")\n",
    "    print(\"  It has a population of about \" + str(population) + \".\")\n",
    "    print( \"  \" + fact + \" is the fact about it!\")"
   ]
  },
  {
   "cell_type": "code",
   "execution_count": null,
   "metadata": {},
   "outputs": [],
   "source": []
  },
  {
   "cell_type": "code",
   "execution_count": null,
   "metadata": {},
   "outputs": [],
   "source": []
  },
  {
   "cell_type": "raw",
   "metadata": {},
   "source": [
    "Q3): A movie theater charges different ticket prices depending on a person’s age. If a person is under the age\n",
    "of 3, the ticket is free; if they are between 3 and 12, the ticket is $10; and if they are over age 12, the\n",
    "ticket is $15. Write a loop in which you ask users their age, and then tell them the cost of their movie\n",
    "ticket."
   ]
  },
  {
   "cell_type": "code",
   "execution_count": 1,
   "metadata": {},
   "outputs": [
    {
     "name": "stdout",
     "output_type": "stream",
     "text": [
      "How old are you?\n",
      "Enter 'quit' when you are finished. 24\n",
      "  Your ticket is $15.\n",
      "How old are you?\n",
      "Enter 'quit' when you are finished. quit\n"
     ]
    }
   ],
   "source": [
    "prompt = \"How old are you?\"\n",
    "prompt += \"\\nEnter 'quit' when you are finished. \"\n",
    "\n",
    "#loop to prompt user to input age, over and over again but if they enter 'quit' the while loop terminates\n",
    "while True:\n",
    "    age = input(prompt)\n",
    "    if age == 'quit':\n",
    "        break\n",
    "    age = int(age)\n",
    "\n",
    "    if age < 3:\n",
    "        print(\"  You get in free!\")\n",
    "    elif age < 13:\n",
    "        print(\"  Your ticket is $10.\")\n",
    "    else:\n",
    "        print(\"  Your ticket is $15.\")"
   ]
  },
  {
   "cell_type": "code",
   "execution_count": null,
   "metadata": {},
   "outputs": [],
   "source": []
  },
  {
   "cell_type": "code",
   "execution_count": null,
   "metadata": {},
   "outputs": [],
   "source": []
  },
  {
   "cell_type": "raw",
   "metadata": {},
   "source": [
    "Q4): Write a function called favorite_book() that accepts one parameter, title. The function should print a\n",
    "message, such as One of my favorite books is Alice in Wonderland. Call the function, making sure to\n",
    "include a book title as an argument in the function call."
   ]
  },
  {
   "cell_type": "code",
   "execution_count": 4,
   "metadata": {},
   "outputs": [
    {
     "name": "stdout",
     "output_type": "stream",
     "text": [
      "One of my favorite books is Sirat-un-Nabi (SAWW)\n"
     ]
    }
   ],
   "source": [
    "def favorite_book(title):\n",
    "    \"\"\"this function's work is to display a message about someone's favorite book.\"\"\"\n",
    "    print(\"One of my favorite books is \" + title)\n",
    "\n",
    "favorite_book('Sirat-un-Nabi (SAWW)')"
   ]
  },
  {
   "cell_type": "code",
   "execution_count": null,
   "metadata": {},
   "outputs": [],
   "source": []
  },
  {
   "cell_type": "code",
   "execution_count": null,
   "metadata": {},
   "outputs": [],
   "source": []
  },
  {
   "cell_type": "raw",
   "metadata": {},
   "source": [
    "Q5): Guess the number game\n",
    "Write a program which randomly generate a number between 1 to 30 and ask the user in input field to\n",
    "guess the correct number. Give three chances to user guess the number and also give hint to user if\n",
    "hidden number is greater or smaller than the number he given to input field."
   ]
  },
  {
   "cell_type": "code",
   "execution_count": 6,
   "metadata": {},
   "outputs": [
    {
     "name": "stdout",
     "output_type": "stream",
     "text": [
      "Hello! What is your name?\n",
      "Shahrukh\n",
      "Well, Shahrukh, I am thinking of a number between 1 and 30.\n",
      "Take a guess.\n",
      "5\n",
      "Your guess is smaller.\n",
      "Take a guess.\n",
      "10\n",
      "Your guess is smaller.\n",
      "Take a guess.\n",
      "20\n",
      "Your guess is greater.\n",
      "Nope. The number I was thinking of was 18\n"
     ]
    }
   ],
   "source": [
    "# This is Guess the number game\n",
    "import random    #importing library to select a random number from given range\n",
    "\n",
    "guessesTaken = 0\n",
    "print('Hello! What is your name?')\n",
    "\n",
    "myName = input()\n",
    "number = random.randint(1, 30)\n",
    "print('Well, ' + myName + ', I am thinking of a number between 1 and 30.')\n",
    "\n",
    "while guessesTaken < 3:\n",
    "    print('Take a guess.') # There are four spaces in front of print.\n",
    "    guess = input()\n",
    "    guess = int(guess)\n",
    "\n",
    "    guessesTaken = guessesTaken + 1\n",
    "\n",
    "    if guess < number:\n",
    "        print('Your guess is smaller.') # There are eight spaces in front of print.\n",
    "    if guess > number:\n",
    "        print('Your guess is greater.')\n",
    "    if guess == number:\n",
    "        break\n",
    "\n",
    "if guess == number:\n",
    "    guessesTaken = str(guessesTaken)\n",
    "    print('Good job, ' + myName + '! You guessed my number in ' + guessesTaken + ' guesses!\\n')\n",
    "\n",
    "if guess != number:\n",
    "    number = str(number)\n",
    "    print('Nope. The number I was thinking of was ' + number)"
   ]
  },
  {
   "cell_type": "code",
   "execution_count": null,
   "metadata": {},
   "outputs": [],
   "source": []
  },
  {
   "cell_type": "code",
   "execution_count": null,
   "metadata": {},
   "outputs": [],
   "source": []
  }
 ],
 "metadata": {
  "kernelspec": {
   "display_name": "Python 3",
   "language": "python",
   "name": "python3"
  },
  "language_info": {
   "codemirror_mode": {
    "name": "ipython",
    "version": 3
   },
   "file_extension": ".py",
   "mimetype": "text/x-python",
   "name": "python",
   "nbconvert_exporter": "python",
   "pygments_lexer": "ipython3",
   "version": "3.7.3"
  }
 },
 "nbformat": 4,
 "nbformat_minor": 2
}
