{
 "cells": [
  {
   "cell_type": "markdown",
   "metadata": {},
   "source": [
    "   # Python Programming Language"
   ]
  },
  {
   "cell_type": "markdown",
   "metadata": {},
   "source": [
    "  # Assignmnet # 2"
   ]
  },
  {
   "cell_type": "raw",
   "metadata": {},
   "source": [
    "Q1): Write a program which takes 5 inputs from user for different subject’s\n",
    "marks, total it and generate mark sheet using grades ?"
   ]
  },
  {
   "cell_type": "code",
   "execution_count": 1,
   "metadata": {},
   "outputs": [
    {
     "name": "stdout",
     "output_type": "stream",
     "text": [
      "Enter marks of the first subject: 88\n",
      "Enter marks of the second subject: 88\n",
      "Enter marks of the third subject: 89\n",
      "Enter marks of the fourth subject: 90\n",
      "Enter marks of the fifth subject: 97\n",
      "Grade: A\n"
     ]
    }
   ],
   "source": [
    "subject1 =int(input(\"Enter marks of the first subject: \"))\n",
    "subject2 = int(input(\"Enter marks of the second subject: \"))\n",
    "subject3 = int(input(\"Enter marks of the third subject: \"))\n",
    "subject4 = int(input(\"Enter marks of the fourth subject: \"))\n",
    "subject5 = int(input(\"Enter marks of the fifth subject: \"))\n",
    "\n",
    "total = subject1 + subject2 + subject3 + subject4 + subject5\n",
    "\n",
    "if(total >= 90):\n",
    "    print(\"Grade: A\")\n",
    "    \n",
    "elif(total >= 80 & total < 90):\n",
    "    print(\"Grade: B\")\n",
    "\n",
    "elif(total >= 70 & total < 80):\n",
    "    print(\"Grade: C\")\n",
    "\n",
    "elif(total >= 60 & total < 70):\n",
    "    print(\"Grade: D\")\n",
    "\n",
    "else:\n",
    "    print(\"Grade: F\")"
   ]
  },
  {
   "cell_type": "code",
   "execution_count": null,
   "metadata": {},
   "outputs": [],
   "source": []
  },
  {
   "cell_type": "raw",
   "metadata": {},
   "source": [
    "Q2): Write a program which take input from user and identify that the given\n",
    "number is even or odd?"
   ]
  },
  {
   "cell_type": "code",
   "execution_count": 1,
   "metadata": {},
   "outputs": [
    {
     "name": "stdout",
     "output_type": "stream",
     "text": [
      "Enter any number: 5\n",
      "This is an odd number.\n"
     ]
    }
   ],
   "source": [
    "number = int(input(\"Enter any number: \"))\n",
    "mod = number % 2\n",
    "\n",
    "if mod > 0:\n",
    "    print(\"This is an odd number.\")\n",
    "    \n",
    "else:\n",
    "    print(\"This is an even number.\")"
   ]
  },
  {
   "cell_type": "code",
   "execution_count": null,
   "metadata": {},
   "outputs": [],
   "source": []
  },
  {
   "cell_type": "raw",
   "metadata": {},
   "source": [
    "Q3): Write a program which print the length of the list?"
   ]
  },
  {
   "cell_type": "code",
   "execution_count": 2,
   "metadata": {},
   "outputs": [
    {
     "name": "stdout",
     "output_type": "stream",
     "text": [
      "The length of list is:  4\n"
     ]
    }
   ],
   "source": [
    "listt = [\"Hello\", \"Sir\", \"M.Ali\", \"Mughal\"] \n",
    "\n",
    "print(\"The length of list is: \", len(listt)) "
   ]
  },
  {
   "cell_type": "code",
   "execution_count": null,
   "metadata": {},
   "outputs": [],
   "source": []
  },
  {
   "cell_type": "raw",
   "metadata": {},
   "source": [
    "Q4): Write a Python program to sum all the numeric items in a list?"
   ]
  },
  {
   "cell_type": "code",
   "execution_count": 4,
   "metadata": {},
   "outputs": [
    {
     "name": "stdout",
     "output_type": "stream",
     "text": [
      "Sum of elements in given list is : 360\n"
     ]
    }
   ],
   "source": [
    "lst = [10, 20, 30, 40, 50, 60,70, 80]\n",
    "\n",
    "print(\"Sum of elements in given list is :\", sum(lst))"
   ]
  },
  {
   "cell_type": "code",
   "execution_count": null,
   "metadata": {},
   "outputs": [],
   "source": []
  },
  {
   "cell_type": "markdown",
   "metadata": {},
   "source": [
    "Q5): Write a Python program to get the largest number from a numeric list."
   ]
  },
  {
   "cell_type": "code",
   "execution_count": 5,
   "metadata": {},
   "outputs": [
    {
     "name": "stdout",
     "output_type": "stream",
     "text": [
      "Largest number in the above numeric list is : 80\n"
     ]
    }
   ],
   "source": [
    "lst = [10, 20, 30, 40, 50, 60,70, 80]\n",
    "\n",
    "print(\"Largest number in the above numeric list is :\", max(lst))"
   ]
  },
  {
   "cell_type": "code",
   "execution_count": null,
   "metadata": {},
   "outputs": [],
   "source": []
  },
  {
   "cell_type": "raw",
   "metadata": {},
   "source": [
    "Q6): Take a list, say for example this one:\n",
    " a = [1, 1, 2, 3, 5, 8, 13, 21, 34, 55, 89]\n",
    "and write a program that prints out all the elements of the list that are\n",
    "less than 5."
   ]
  },
  {
   "cell_type": "code",
   "execution_count": 24,
   "metadata": {},
   "outputs": [
    {
     "name": "stdout",
     "output_type": "stream",
     "text": [
      "Elements less than 5 from the above list are : 1\n",
      "Elements less than 5 from the above list are : 1\n",
      "Elements less than 5 from the above list are : 2\n",
      "Elements less than 5 from the above list are : 3\n"
     ]
    }
   ],
   "source": [
    "a = [1, 1, 2, 3, 5, 8, 13, 21, 34, 55, 89]\n",
    "\n",
    "def elements_less_than_five():\n",
    "    for i in range(len(a)):\n",
    "        if a[i]<5: \n",
    "            print(\"Elements less than 5 from the above list are :\", a[i]) \n",
    "\n",
    "elements_less_than_five()"
   ]
  },
  {
   "cell_type": "code",
   "execution_count": null,
   "metadata": {},
   "outputs": [],
   "source": []
  }
 ],
 "metadata": {
  "kernelspec": {
   "display_name": "Python 3",
   "language": "python",
   "name": "python3"
  },
  "language_info": {
   "codemirror_mode": {
    "name": "ipython",
    "version": 3
   },
   "file_extension": ".py",
   "mimetype": "text/x-python",
   "name": "python",
   "nbconvert_exporter": "python",
   "pygments_lexer": "ipython3",
   "version": "3.7.3"
  }
 },
 "nbformat": 4,
 "nbformat_minor": 2
}
