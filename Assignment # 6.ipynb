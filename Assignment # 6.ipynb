{
 "cells": [
  {
   "cell_type": "markdown",
   "metadata": {},
   "source": [
    "# Assignment # 6"
   ]
  },
  {
   "cell_type": "code",
   "execution_count": null,
   "metadata": {},
   "outputs": [],
   "source": []
  },
  {
   "cell_type": "raw",
   "metadata": {},
   "source": [
    "Question 1:\n",
    "Define Object Oriented Programming Language?"
   ]
  },
  {
   "cell_type": "markdown",
   "metadata": {},
   "source": [
    "OOP:\n",
    "    This is a programming language based on objects. Object in OOP language refers to \"instance\" of a class. An object can also call functions, or methods, specific to that object. \n",
    "    OOP can improve the developer's ability to quickly prototype software, extend its functionality and maintain it as it is developed.\n",
    "    OOP has four pillars on which this language is based and those four pillars are: Abstraction, Encapsulation, Polymorphism and Inheritance."
   ]
  },
  {
   "cell_type": "code",
   "execution_count": null,
   "metadata": {},
   "outputs": [],
   "source": []
  },
  {
   "cell_type": "raw",
   "metadata": {},
   "source": [
    "Question 2:\n",
    "List down the Benefits of OOP?"
   ]
  },
  {
   "cell_type": "markdown",
   "metadata": {},
   "source": [
    "The benefits of OOP language are:\n",
    "    1. It implements real-life scenarios\n",
    "    2. Code can be reused using inheritance\n",
    "    3. Polymorphism provides flexibility with its types like method oveloading adn method overriding\n",
    "    4. Code understanding becomes easy for the new programmer to understand it and then modify it.\n",
    "    5. Classes, functions and objects provides easy troubleshooting of code. "
   ]
  },
  {
   "cell_type": "code",
   "execution_count": null,
   "metadata": {},
   "outputs": [],
   "source": []
  },
  {
   "cell_type": "raw",
   "metadata": {},
   "source": [
    "Question 3:\n",
    "Differentiate between function and method?"
   ]
  },
  {
   "cell_type": "markdown",
   "metadata": {},
   "source": [
    "Functions:\n",
    "    1. they have independent existence means they can be defined outside of the class like main() \n",
    "    2. they are defined in structured(C) and object-based languages(Javascript)\n",
    "    3. they do not have any reference variable\n",
    "    \n",
    "Methods:\n",
    "    1. they do not have independent existence means they are always defined with in class\n",
    "    2. they are defined in object oriented languages like C#, Java\n",
    "    3. they are called using reference variable\n",
    "    "
   ]
  },
  {
   "cell_type": "code",
   "execution_count": null,
   "metadata": {},
   "outputs": [],
   "source": []
  },
  {
   "cell_type": "raw",
   "metadata": {},
   "source": [
    "Question 4:\n",
    "Define the following terms:\n",
    "1. Class\n",
    "2. Object\n",
    "3. Attribute\n",
    "4. Behavior"
   ]
  },
  {
   "cell_type": "raw",
   "metadata": {},
   "source": [
    "1. Class:\n",
    "    A class is an entity that determines how an object will behave and what the object will contain. Basically, it is a set of instructions to build a specific type of object\n",
    "    \n",
    "2. Object:\n",
    "    From programming point of view, an object can be a data structure, a variable or a function. It has a memory location allocated. The object is designed as class hierarchies\n",
    "\n",
    "3. Attribute:\n",
    "    Attributes are the individual things that differentiate one object from another and determine the appearance, state, or other qualities of that object like color, shape, etc.\n",
    "\n",
    "4. Behavior:\n",
    "    A class's behavior determines how an instance of that class operates. To define an object's behavior, you create methods, a set of Java statements that accomplish some task\n",
    "    "
   ]
  },
  {
   "cell_type": "code",
   "execution_count": null,
   "metadata": {},
   "outputs": [],
   "source": []
  },
  {
   "cell_type": "raw",
   "metadata": {},
   "source": [
    "Question 5:\n",
    "Write a code in python in which create a class named it Car which\n",
    "have 5 attributes such like (model, color and name etc.) and 3\n",
    "methods. And create 5 object instance from that class."
   ]
  },
  {
   "cell_type": "code",
   "execution_count": 25,
   "metadata": {},
   "outputs": [
    {
     "name": "stdout",
     "output_type": "stream",
     "text": [
      "Engine started\n",
      "Now, drive the Car\n",
      "=================================================\n",
      "Corrola Toyota 2018 tilt\n",
      "=================================================\n",
      "Engine started\n",
      "Now, drive the Car\n",
      "=================================================\n",
      "Mehran, Suzuki, 2019 curved\n",
      "=================================================\n",
      "Engine switched off\n"
     ]
    }
   ],
   "source": [
    "# creating Car class\n",
    "class Car:\n",
    "    \n",
    "    #its 5 attributes\n",
    "    model = 2019\n",
    "    color = \"\"\n",
    "    name = \"Vitz\"\n",
    "    make = \"\"\n",
    "    shape = \"rounded\"\n",
    "    \n",
    "    #its 3 methods\n",
    "    def start(self, name, make, model):\n",
    "        print (\"Engine started\")\n",
    "        self.name = name\n",
    "        self.make = make\n",
    "        self.model = model\n",
    "\n",
    "    def drive(self, shape):\n",
    "        print (\"Now, drive the Car\")\n",
    "        self.shape = shape\n",
    "        \n",
    "    def stop(self):\n",
    "        print (\"Engine switched off\")\n",
    "        \n",
    "#creating object instances\n",
    "car_1 = Car()\n",
    "car_2 = Car()\n",
    "\n",
    "car_1.start(\"Corrola\", \"Toyota\", 2018)\n",
    "car_1.drive(\"tilt\")\n",
    "print(\"=================================================\")\n",
    "print(car_1.name, car_1.make, car_1.model, car_1.shape)\n",
    "\n",
    "print(\"=================================================\")\n",
    "car_2.start(\"Mehran,\", \"Suzuki,\", 2019)\n",
    "car_2.drive(\"curved\")\n",
    "print(\"=================================================\")\n",
    "print(\"\" + car_2.name, car_2.make, car_2.model, car_2.shape)\n",
    "print(\"=================================================\")\n",
    "car_1.stop()\n",
    "\n",
    "    "
   ]
  },
  {
   "cell_type": "code",
   "execution_count": null,
   "metadata": {},
   "outputs": [],
   "source": []
  },
  {
   "cell_type": "code",
   "execution_count": null,
   "metadata": {},
   "outputs": [],
   "source": []
  }
 ],
 "metadata": {
  "kernelspec": {
   "display_name": "Python 3",
   "language": "python",
   "name": "python3"
  },
  "language_info": {
   "codemirror_mode": {
    "name": "ipython",
    "version": 3
   },
   "file_extension": ".py",
   "mimetype": "text/x-python",
   "name": "python",
   "nbconvert_exporter": "python",
   "pygments_lexer": "ipython3",
   "version": "3.7.4"
  }
 },
 "nbformat": 4,
 "nbformat_minor": 2
}
