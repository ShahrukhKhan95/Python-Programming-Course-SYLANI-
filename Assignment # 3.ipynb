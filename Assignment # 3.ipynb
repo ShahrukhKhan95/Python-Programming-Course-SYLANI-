{
 "cells": [
  {
   "cell_type": "markdown",
   "metadata": {},
   "source": [
    "# Python Programming Language"
   ]
  },
  {
   "cell_type": "markdown",
   "metadata": {},
   "source": [
    "# Assignmnet # 3"
   ]
  },
  {
   "cell_type": "raw",
   "metadata": {},
   "source": [
    "Q1): Make a calculator using Python with addition , subtraction , multiplication ,\n",
    "     division and power."
   ]
  },
  {
   "cell_type": "code",
   "execution_count": 3,
   "metadata": {},
   "outputs": [
    {
     "name": "stdout",
     "output_type": "stream",
     "text": [
      "Select operation:\n",
      "1.Add\n",
      "2.Subtract\n",
      "3.Multiply\n",
      "4.Divide\n",
      "Enter choice(1/2/3/4): 3\n",
      "Enter first number: 2\n",
      "Enter second number: 3\n",
      "2.0 * 3.0 = 6.0\n"
     ]
    }
   ],
   "source": [
    "\n",
    "def add(x, y):    #add\n",
    "   return x + y\n",
    "\n",
    "def subtract(x, y):    #subtract\n",
    "   return x - y\n",
    "\n",
    "def multiply(x, y):    #multiply\n",
    "   return x * y\n",
    "\n",
    "def divide(x, y):    #divide\n",
    "   return x / y\n",
    "\n",
    "print(\"Select operation:\")\n",
    "print(\"1.Add\")\n",
    "print(\"2.Subtract\")\n",
    "print(\"3.Multiply\")\n",
    "print(\"4.Divide\")\n",
    "\n",
    "choice = input(\"Enter choice(1/2/3/4): \")\n",
    "num1 = float(input(\"Enter first number: \"))\n",
    "num2 = float(input(\"Enter second number: \"))\n",
    "\n",
    "if choice == '1':\n",
    "   print(num1, \"+\", num2, \"=\", add(num1,num2))\n",
    "elif choice == '2':\n",
    "   print(num1, \"-\", num2, \"=\", subtract(num1,num2))\n",
    "elif choice == '3':\n",
    "   print(num1, \"*\", num2, \"=\", multiply(num1,num2))\n",
    "elif choice == '4':\n",
    "   print(num1, \"/\", num2, \"=\", divide(num1,num2))\n",
    "else:\n",
    "   print(\"Invalid input\")"
   ]
  },
  {
   "cell_type": "code",
   "execution_count": null,
   "metadata": {},
   "outputs": [],
   "source": []
  },
  {
   "cell_type": "raw",
   "metadata": {},
   "source": [
    "Q2): Write a program to check if there is any numeric value in list using for loop"
   ]
  },
  {
   "cell_type": "code",
   "execution_count": 8,
   "metadata": {},
   "outputs": [
    {
     "name": "stdout",
     "output_type": "stream",
     "text": [
      "Checking if anynumeric value exists in list: \n",
      "Numeric Value Exist in the list!\n"
     ]
    }
   ],
   "source": [
    "\n",
    "test_list = [ 1, 6, 3, 5, 3, 4 ]    # initializing a numeric list   \n",
    "  \n",
    "print(\"Checking if anynumeric value exists in list: \") \n",
    "  \n",
    "# Checking if 4 exists in list  \n",
    "# using loop \n",
    "for i in test_list: \n",
    "    if(i == 5) : \n",
    "        print (\"Numeric Value Exist in the list!\") "
   ]
  },
  {
   "cell_type": "code",
   "execution_count": null,
   "metadata": {},
   "outputs": [],
   "source": []
  },
  {
   "cell_type": "raw",
   "metadata": {},
   "source": [
    "Q3): Write a Python script to add a key to a dictionary"
   ]
  },
  {
   "cell_type": "code",
   "execution_count": 9,
   "metadata": {},
   "outputs": [
    {
     "name": "stdout",
     "output_type": "stream",
     "text": [
      "{0: 10, 1: 20}\n",
      "{0: 10, 1: 20, 2: 30}\n"
     ]
    }
   ],
   "source": [
    "\n",
    "dic = {0:10, 1:20}   #initializing a dictionary with 2 keys\n",
    "print(dic)\n",
    "\n",
    "dic.update({2:30})   #updating dictionary and adding another key in it\n",
    "print(dic)"
   ]
  },
  {
   "cell_type": "code",
   "execution_count": null,
   "metadata": {},
   "outputs": [],
   "source": []
  },
  {
   "cell_type": "raw",
   "metadata": {},
   "source": [
    "Q4): Write a Python program to sum all the numeric items in a dictionary"
   ]
  },
  {
   "cell_type": "code",
   "execution_count": 11,
   "metadata": {},
   "outputs": [
    {
     "name": "stdout",
     "output_type": "stream",
     "text": [
      "Sum of all numeric items in a dictionary is: 60\n"
     ]
    }
   ],
   "source": [
    "\n",
    "def returnSum(myDict):   # Function to print sum of dict's numeric items\n",
    "    sum = 0\n",
    "    for i in myDict: \n",
    "        sum = sum + myDict[i]    \n",
    "    return sum\n",
    "  \n",
    "dict = {'a': 10, 'b':20, 'c':30}   #initializing a dictionary with 3 keys\n",
    "print(\"Sum of all numeric items in a dictionary is:\", returnSum(dict)) "
   ]
  },
  {
   "cell_type": "code",
   "execution_count": null,
   "metadata": {},
   "outputs": [],
   "source": []
  },
  {
   "cell_type": "raw",
   "metadata": {},
   "source": [
    "Q5): Write a program to identify duplicate values from list"
   ]
  },
  {
   "cell_type": "code",
   "execution_count": 13,
   "metadata": {},
   "outputs": [
    {
     "name": "stdout",
     "output_type": "stream",
     "text": [
      "Duplicate values in the above listOfNumbers are:  [30, 40, 50, -10]\n"
     ]
    }
   ],
   "source": [
    "\n",
    "def identifyDuplicate(x): \n",
    "    _size = len(x) \n",
    "    duplicate = [] \n",
    "    \n",
    "    for i in range(_size): \n",
    "        k = i + 1\n",
    "        for j in range(k, _size): \n",
    "            if x[i] == x[j] and x[i] not in duplicate: \n",
    "                duplicate.append(x[i]) \n",
    "    return duplicate \n",
    "  \n",
    "listOfNumbers = [10, 20, 30, 40, 50, 30, 40, 50, -10, 60, -60, -10]   #initializing a numeric list \n",
    "\n",
    "print(\"Duplicate values in the above listOfNumbers are: \", identifyDuplicate(listOfNumbers)) "
   ]
  },
  {
   "cell_type": "code",
   "execution_count": null,
   "metadata": {},
   "outputs": [],
   "source": []
  },
  {
   "cell_type": "raw",
   "metadata": {},
   "source": [
    "Q6): Write a Python script to check if a given key already exists in a dictionary"
   ]
  },
  {
   "cell_type": "code",
   "execution_count": 16,
   "metadata": {},
   "outputs": [
    {
     "name": "stdout",
     "output_type": "stream",
     "text": [
      "Key 3 is present in the dictionary!\n",
      "Key 6 is not present in the dictionary!\n"
     ]
    }
   ],
   "source": [
    "\n",
    "dic = {1: 100, 2: 200, 3: 300, 4: 400, 5: 500}   #initializing a dictionary with 3 keys\n",
    "\n",
    "def is_key_present(k):\n",
    "  if k in dic:\n",
    "      print('Key', k, 'is present in the dictionary!')\n",
    "  else:\n",
    "      print('Key', k, 'is not present in the dictionary!')\n",
    "        \n",
    "is_key_present(3)\n",
    "is_key_present(6)"
   ]
  },
  {
   "cell_type": "code",
   "execution_count": null,
   "metadata": {},
   "outputs": [],
   "source": []
  }
 ],
 "metadata": {
  "kernelspec": {
   "display_name": "Python 3",
   "language": "python",
   "name": "python3"
  },
  "language_info": {
   "codemirror_mode": {
    "name": "ipython",
    "version": 3
   },
   "file_extension": ".py",
   "mimetype": "text/x-python",
   "name": "python",
   "nbconvert_exporter": "python",
   "pygments_lexer": "ipython3",
   "version": "3.7.4"
  }
 },
 "nbformat": 4,
 "nbformat_minor": 2
}
